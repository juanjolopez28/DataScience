{
 "cells": [
  {
   "cell_type": "code",
   "execution_count": null,
   "metadata": {},
   "outputs": [],
   "source": []
  },
  {
   "attachments": {},
   "cell_type": "markdown",
   "metadata": {},
   "source": [
    "1- Funcion qu retorna numeros primos menores a un numero dado"
   ]
  },
  {
   "cell_type": "code",
   "execution_count": 7,
   "metadata": {},
   "outputs": [
    {
     "name": "stdout",
     "output_type": "stream",
     "text": [
      "0\n",
      "False\n",
      "1\n",
      "False\n",
      "2\n",
      "True\n",
      "3\n",
      "True\n",
      "4\n",
      "False\n",
      "5\n",
      "True\n",
      "6\n",
      "False\n",
      "7\n",
      "True\n",
      "8\n",
      "False\n",
      "9\n",
      "False\n",
      "10\n",
      "False\n",
      "11\n",
      "True\n",
      "[2, 3, 5, 7, 11]\n"
     ]
    }
   ],
   "source": [
    "def es_primo(numero):\n",
    "    if(numero==0 or numero==1):\n",
    "        return False\n",
    "    if(numero<0 or type(numero)!=int):\n",
    "        return None\n",
    "    for i in range(2,int(numero/2)+1):\n",
    "        if(numero%i==0):\n",
    "            return False\n",
    "    return True\n",
    "\n",
    "def primos_anteriores(numero):\n",
    "    lista=[]\n",
    "    for i in range(numero):\n",
    "        print(i)\n",
    "        print(es_primo(i))\n",
    "        if(es_primo(i)):\n",
    "            lista.append(i)\n",
    "    print(lista)\n",
    "\n",
    "primos(12)"
   ]
  }
 ],
 "metadata": {
  "kernelspec": {
   "display_name": "Python 3",
   "language": "python",
   "name": "python3"
  },
  "language_info": {
   "codemirror_mode": {
    "name": "ipython",
    "version": 3
   },
   "file_extension": ".py",
   "mimetype": "text/x-python",
   "name": "python",
   "nbconvert_exporter": "python",
   "pygments_lexer": "ipython3",
   "version": "3.8.10"
  },
  "orig_nbformat": 4
 },
 "nbformat": 4,
 "nbformat_minor": 2
}
