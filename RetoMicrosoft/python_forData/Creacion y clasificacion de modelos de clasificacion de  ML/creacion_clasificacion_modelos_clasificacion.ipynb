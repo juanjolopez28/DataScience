{
 "cells": [
  {
   "attachments": {},
   "cell_type": "markdown",
   "metadata": {},
   "source": [
    "La clasificación significa la asignación de elementos en categorías o también se puede considerar la toma de decisiones automatizada. Aquí presentamos modelos de clasificación a través de la regresión logística, lo que le proporciona un avance hacia métodos de clasificación más complejos y emocionantes."
   ]
  },
  {
   "attachments": {},
   "cell_type": "markdown",
   "metadata": {},
   "source": [
    "Las salidas de los modelos de clasificación son categóricas, lo que significa que se pueden usar para etiquetar entradas o tomar decisiones. Por ejemplo, un automóvil sin conductor usa la clasificación para decidir si girar a la izquierda o a la derecha en una bifurcación de la carretera. Un modelo de clasificación difiere de los modelos de regresión clásica en que las salidas son continuas, como el tamaño de un zapato o la velocidad de un tren. Los modelos de clasificación son diversos en su forma de funcionar. Para empezar, nos centraremos en la regresión logística, que es un tipo de modelo más sencillo y popular que se usa ampliamente en muchos sectores de la ciencia y de la industria."
   ]
  },
  {
   "attachments": {},
   "cell_type": "markdown",
   "metadata": {},
   "source": [
    "¿Qué son los modelos de clasificación?\n",
    "Los modelos de clasificación se usan para tomar decisiones o asignar elementos a categorías. A diferencia de los módulos de regresión, que emiten números continuos, como alturas o pesos, los modelos de clasificación emiten valores booleanos (true o false) o decisiones categóricas, como ‘apple’, ’banana’ o ‘cherry’ (\"manzana\", \"plátano\" o \"cereza\").\n",
    "\n",
    "Hay muchos tipos de modelos de clasificación. Algunos funcionan de forma similar a los modelos de regresión clásica, mientras que otras son esencialmente diferentes. Uno de los mejores modelos para aprender inicialmente se denomina regresión logística."
   ]
  },
  {
   "attachments": {},
   "cell_type": "markdown",
   "metadata": {},
   "source": [
    "¿Qué es la regresión logística?\n",
    "La regresión logística es un tipo de modelo de clasificación que funciona de forma similar a la regresión lineal. La diferencia entre esta y la regresión lineal es la forma de la curva. Mientras que la regresión lineal simple tiene forma de línea recta a los datos, los modelos de regresión logística tienen forma de curva en forma de s:"
   ]
  },
  {
   "cell_type": "code",
   "execution_count": null,
   "metadata": {},
   "outputs": [],
   "source": []
  }
 ],
 "metadata": {
  "language_info": {
   "name": "python"
  },
  "orig_nbformat": 4
 },
 "nbformat": 4,
 "nbformat_minor": 2
}
